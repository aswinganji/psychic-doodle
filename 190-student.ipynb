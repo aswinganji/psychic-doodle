{
 "cells": [
  {
   "cell_type": "code",
   "execution_count": 1,
   "metadata": {},
   "outputs": [],
   "source": [
    "print(\"Name : \")"
   ]
  },
  {
   "cell_type": "code",
   "execution_count": 2,
   "metadata": {},
   "outputs": [
    {
     "name": "stdout",
     "output_type": "stream",
     "text": [
      "     Age  BloodPressure\n",
      "763   37            110\n",
      "764   54            110\n",
      "765   26            110\n",
      "766   44            114\n",
      "767   27            122\n"
     ]
    },
    {
     "data": {
      "text/plain": [
       "<BarContainer object of 5 artists>"
      ]
     },
     "execution_count": 2,
     "metadata": {},
     "output_type": "execute_result"
    },
    {
     "data": {
      "image/png": "[encoded data removed]",
      "text/plain": [
       "<Figure size 432x288 with 1 Axes>"
      ]
     },
     "metadata": {
      "needs_background": "light"
     },
     "output_type": "display_data"
    }
   ],
   "source": [
    "import pandas as pd\n",
    "from matplotlib import pyplot as plt\n",
    "dataframe = pd.read_csv('blood_pressure.csv')\n",
    "df = pd.DataFrame(dataframe,columns = ['Age','BloodPressure'])\n",
    "df.replace(\" \",float(\"NaN\"),inplace = True)\n",
    "df = df.dropna()\n",
    "sorted_df = df.sort_values(by = ['BloodPressure'])\n",
    "use_least_power = sorted_df.tail(5)\n",
    "print(use_least_power)\n",
    "name = use_least_power['Age']\n",
    "weight = use_least_power['BloodPressure']\n",
    "plt.xlabel(\"Age\")\n",
    "plt.xticks(rotation='vertical')\n",
    "plt.ylabel(\"BloodPressure\")\n",
    "label = name\n",
    "value = weight \n",
    "plt.bar(label, value,width=0.4, color=('red','yellow','green','pink','blue')) #bar-grap"
   ]
  },
  {
   "cell_type": "code",
   "execution_count": 3,
   "metadata": {},
   "outputs": [
    {
     "name": "stdout",
     "output_type": "stream",
     "text": [
      "   Age   BMI\n",
      "4   25  53.2\n",
      "3   26  55.0\n",
      "2   22  57.3\n",
      "1   25  59.4\n",
      "0   26  67.1\n"
     ]
    },
    {
     "data": {
      "text/plain": [
       "<BarContainer object of 5 artists>"
      ]
     },
     "execution_count": 3,
     "metadata": {},
     "output_type": "execute_result"
    },
    {
     "data": {
      "image/png": "[encoded data removed]",
      "text/plain": [
       "<Figure size 432x288 with 1 Axes>"
      ]
     },
     "metadata": {
      "needs_background": "light"
     },
     "output_type": "display_data"
    }
   ],
   "source": [
    "import pandas as pd\n",
    "from matplotlib import pyplot as plt\n",
    "dataframe = pd.read_csv('bmi.csv')\n",
    "df = pd.DataFrame(dataframe,columns = ['Age','BMI'])\n",
    "df.replace(\" \",float(\"NaN\"),inplace = True)\n",
    "df = df.dropna()\n",
    "sorted_df = df.sort_values(by = ['BMI'])\n",
    "use_least_power = sorted_df.tail(5)\n",
    "print(use_least_power)\n",
    "name = use_least_power['Age']\n",
    "weight = use_least_power['BMI']\n",
    "plt.xlabel(\"Age\")\n",
    "plt.xticks(rotation='vertical')\n",
    "plt.ylabel(\"BMI\")\n",
    "label = name\n",
    "value = weight \n",
    "plt.bar(label, value,width=0.4, color=('red','yellow','green','pink','blue')) #bar-grap"
   ]
  },
  {
   "cell_type": "code",
   "execution_count": 4,
   "metadata": {},
   "outputs": [],
   "source": [
    "import pandas as pd\n",
    "from matplotlib import pyplot as plt\n",
    "dataframe = pd.read_csv('insulin.csv')\n",
    "df = pd.DataFrame(dataframe,columns = ['Age','Insulin'])\n",
    "df.replace(\" \",float(\"NaN\"),inplace = True)\n",
    "df = df.dropna()\n",
    "sorted_df = df.sort_values(by = ['Insulin'])\n",
    "use_least_power = sorted_df.tail(5)\n",
    "print(use_least_power)\n",
    "name = use_least_power['Age']\n",
    "weight = use_least_power['Insulin']\n",
    "plt.xlabel(\"Age\")\n",
    "plt.xticks(rotation='vertical')\n",
    "plt.ylabel(\"Insulin\")\n",
    "label = name\n",
    "value = weight \n",
    "plt.bar(label, value,width=0.4, color=('red','yellow','green','pink','blue')) #bar-grap"
   ]
  },
  {
   "cell_type": "code",
   "execution_count": 5,
   "metadata": {},
   "outputs": [],
   "source": [
    "#Task 4\n",
    "#Data is sorted in ascending order in accordance with Blood Pressure\n",
    "#Find the top 5 age group where the BloodPressure value is the highest, and plot a bar graph out of it\n",
    "\n"
   ]
  },
  {
   "cell_type": "code",
   "execution_count": 6,
   "metadata": {},
   "outputs": [],
   "source": [
    "#Task 5\n",
    "#Read the insulin.csv\n",
    "\n"
   ]
  },
  {
   "cell_type": "code",
   "execution_count": null,
   "metadata": {},
   "outputs": [],
   "source": [
    "#Task 6\n",
    "#Data is sorted in descending order in accordance with Insulin value\n",
    "#Find out what will be the Glucose and BMI value when the Insulin is highest\n",
    "\n"
   ]
  },
  {
   "cell_type": "code",
   "execution_count": null,
   "metadata": {},
   "outputs": [],
   "source": []
  },
  {
   "cell_type": "code",
   "execution_count": null,
   "metadata": {},
   "outputs": [],
   "source": []
  }
 ],
 "metadata": {
  "kernelspec": {
   "display_name": "Python 3",
   "language": "python",
   "name": "python3"
  },
  "language_info": {
   "codemirror_mode": {
    "name": "ipython",
    "version": 3
   },
   "file_extension": ".py",
   "mimetype": "text/x-python",
   "name": "python",
   "nbconvert_exporter": "python",
   "pygments_lexer": "ipython3",
   "version": "3.8.5"
  }
 },
 "nbformat": 4,
 "nbformat_minor": 4
}
